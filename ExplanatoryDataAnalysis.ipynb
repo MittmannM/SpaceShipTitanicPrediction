{
 "cells": [
  {
   "cell_type": "code",
   "execution_count": 1,
   "id": "initial_id",
   "metadata": {
    "collapsed": true,
    "ExecuteTime": {
     "end_time": "2024-03-23T15:38:50.083066900Z",
     "start_time": "2024-03-23T15:38:49.428472400Z"
    }
   },
   "outputs": [],
   "source": [
    "import pandas as pd\n",
    "import numpy as np\n",
    "from sklearn.ensemble import RandomForestClassifier\n"
   ]
  },
  {
   "cell_type": "markdown",
   "source": [
    "Read in Data"
   ],
   "metadata": {
    "collapsed": false
   },
   "id": "31e9343d0fcbaf70"
  },
  {
   "cell_type": "code",
   "outputs": [],
   "source": [
    "train = pd.read_csv(\"spaceship-titanic/train.csv\")\n",
    "test = pd.read_csv(\"spaceship-titanic/test.csv\")"
   ],
   "metadata": {
    "collapsed": false,
    "ExecuteTime": {
     "end_time": "2024-03-23T16:36:54.424772600Z",
     "start_time": "2024-03-23T16:36:54.373726900Z"
    }
   },
   "id": "e4e1c94b91cc3810",
   "execution_count": 48
  },
  {
   "cell_type": "code",
   "outputs": [
    {
     "data": {
      "text/plain": "     PassengerId   Age  RoomService  FoodCourt  ShoppingMall     Spa  VRDeck  \\\n0        0001_01  39.0          0.0        0.0           0.0     0.0     0.0   \n1        0002_01  24.0        109.0        9.0          25.0   549.0    44.0   \n2        0003_01  58.0         43.0     3576.0           0.0  6715.0    49.0   \n3        0003_02  33.0          0.0     1283.0         371.0  3329.0   193.0   \n4        0004_01  16.0        303.0       70.0         151.0   565.0     2.0   \n...          ...   ...          ...        ...           ...     ...     ...   \n8688     9276_01  41.0          0.0     6819.0           0.0  1643.0    74.0   \n8689     9278_01  18.0          0.0        0.0           0.0     0.0     0.0   \n8690     9279_01  26.0          0.0        0.0        1872.0     1.0     0.0   \n8691     9280_01  32.0          0.0     1049.0           0.0   353.0  3235.0   \n8692     9280_02  44.0        126.0     4688.0           0.0     0.0    12.0   \n\n                   Name  Transported  HomePlanet_Earth  ...  \\\n0       Maham Ofracculy        False             False  ...   \n1          Juanna Vines         True              True  ...   \n2         Altark Susent        False             False  ...   \n3          Solam Susent        False             False  ...   \n4     Willy Santantines         True              True  ...   \n...                 ...          ...               ...  ...   \n8688  Gravior Noxnuther        False             False  ...   \n8689    Kurta Mondalley        False              True  ...   \n8690       Fayey Connon         True              True  ...   \n8691   Celeon Hontichre        False             False  ...   \n8692   Propsh Hontichre         True             False  ...   \n\n      Destination_55 Cancri e  Destination_PSO J318.5-22  \\\n0                       False                      False   \n1                       False                      False   \n2                       False                      False   \n3                       False                      False   \n4                       False                      False   \n...                       ...                        ...   \n8688                     True                      False   \n8689                    False                       True   \n8690                    False                      False   \n8691                     True                      False   \n8692                    False                      False   \n\n      Destination_TRAPPIST-1e  Destination_unknown  VIP_False  VIP_True  \\\n0                        True                False       True     False   \n1                        True                False       True     False   \n2                        True                False      False      True   \n3                        True                False       True     False   \n4                        True                False       True     False   \n...                       ...                  ...        ...       ...   \n8688                    False                False      False      True   \n8689                    False                False       True     False   \n8690                     True                False       True     False   \n8691                    False                False       True     False   \n8692                     True                False       True     False   \n\n      VIP_unknown  Cabin_P  Cabin_S  Cabin_unknown  \n0           False     True    False          False  \n1           False    False     True          False  \n2           False    False     True          False  \n3           False    False     True          False  \n4           False    False     True          False  \n...           ...      ...      ...            ...  \n8688        False     True    False          False  \n8689        False    False     True          False  \n8690        False    False     True          False  \n8691        False    False     True          False  \n8692        False    False     True          False  \n\n[8693 rows x 26 columns]",
      "text/html": "<div>\n<style scoped>\n    .dataframe tbody tr th:only-of-type {\n        vertical-align: middle;\n    }\n\n    .dataframe tbody tr th {\n        vertical-align: top;\n    }\n\n    .dataframe thead th {\n        text-align: right;\n    }\n</style>\n<table border=\"1\" class=\"dataframe\">\n  <thead>\n    <tr style=\"text-align: right;\">\n      <th></th>\n      <th>PassengerId</th>\n      <th>Age</th>\n      <th>RoomService</th>\n      <th>FoodCourt</th>\n      <th>ShoppingMall</th>\n      <th>Spa</th>\n      <th>VRDeck</th>\n      <th>Name</th>\n      <th>Transported</th>\n      <th>HomePlanet_Earth</th>\n      <th>...</th>\n      <th>Destination_55 Cancri e</th>\n      <th>Destination_PSO J318.5-22</th>\n      <th>Destination_TRAPPIST-1e</th>\n      <th>Destination_unknown</th>\n      <th>VIP_False</th>\n      <th>VIP_True</th>\n      <th>VIP_unknown</th>\n      <th>Cabin_P</th>\n      <th>Cabin_S</th>\n      <th>Cabin_unknown</th>\n    </tr>\n  </thead>\n  <tbody>\n    <tr>\n      <th>0</th>\n      <td>0001_01</td>\n      <td>39.0</td>\n      <td>0.0</td>\n      <td>0.0</td>\n      <td>0.0</td>\n      <td>0.0</td>\n      <td>0.0</td>\n      <td>Maham Ofracculy</td>\n      <td>False</td>\n      <td>False</td>\n      <td>...</td>\n      <td>False</td>\n      <td>False</td>\n      <td>True</td>\n      <td>False</td>\n      <td>True</td>\n      <td>False</td>\n      <td>False</td>\n      <td>True</td>\n      <td>False</td>\n      <td>False</td>\n    </tr>\n    <tr>\n      <th>1</th>\n      <td>0002_01</td>\n      <td>24.0</td>\n      <td>109.0</td>\n      <td>9.0</td>\n      <td>25.0</td>\n      <td>549.0</td>\n      <td>44.0</td>\n      <td>Juanna Vines</td>\n      <td>True</td>\n      <td>True</td>\n      <td>...</td>\n      <td>False</td>\n      <td>False</td>\n      <td>True</td>\n      <td>False</td>\n      <td>True</td>\n      <td>False</td>\n      <td>False</td>\n      <td>False</td>\n      <td>True</td>\n      <td>False</td>\n    </tr>\n    <tr>\n      <th>2</th>\n      <td>0003_01</td>\n      <td>58.0</td>\n      <td>43.0</td>\n      <td>3576.0</td>\n      <td>0.0</td>\n      <td>6715.0</td>\n      <td>49.0</td>\n      <td>Altark Susent</td>\n      <td>False</td>\n      <td>False</td>\n      <td>...</td>\n      <td>False</td>\n      <td>False</td>\n      <td>True</td>\n      <td>False</td>\n      <td>False</td>\n      <td>True</td>\n      <td>False</td>\n      <td>False</td>\n      <td>True</td>\n      <td>False</td>\n    </tr>\n    <tr>\n      <th>3</th>\n      <td>0003_02</td>\n      <td>33.0</td>\n      <td>0.0</td>\n      <td>1283.0</td>\n      <td>371.0</td>\n      <td>3329.0</td>\n      <td>193.0</td>\n      <td>Solam Susent</td>\n      <td>False</td>\n      <td>False</td>\n      <td>...</td>\n      <td>False</td>\n      <td>False</td>\n      <td>True</td>\n      <td>False</td>\n      <td>True</td>\n      <td>False</td>\n      <td>False</td>\n      <td>False</td>\n      <td>True</td>\n      <td>False</td>\n    </tr>\n    <tr>\n      <th>4</th>\n      <td>0004_01</td>\n      <td>16.0</td>\n      <td>303.0</td>\n      <td>70.0</td>\n      <td>151.0</td>\n      <td>565.0</td>\n      <td>2.0</td>\n      <td>Willy Santantines</td>\n      <td>True</td>\n      <td>True</td>\n      <td>...</td>\n      <td>False</td>\n      <td>False</td>\n      <td>True</td>\n      <td>False</td>\n      <td>True</td>\n      <td>False</td>\n      <td>False</td>\n      <td>False</td>\n      <td>True</td>\n      <td>False</td>\n    </tr>\n    <tr>\n      <th>...</th>\n      <td>...</td>\n      <td>...</td>\n      <td>...</td>\n      <td>...</td>\n      <td>...</td>\n      <td>...</td>\n      <td>...</td>\n      <td>...</td>\n      <td>...</td>\n      <td>...</td>\n      <td>...</td>\n      <td>...</td>\n      <td>...</td>\n      <td>...</td>\n      <td>...</td>\n      <td>...</td>\n      <td>...</td>\n      <td>...</td>\n      <td>...</td>\n      <td>...</td>\n      <td>...</td>\n    </tr>\n    <tr>\n      <th>8688</th>\n      <td>9276_01</td>\n      <td>41.0</td>\n      <td>0.0</td>\n      <td>6819.0</td>\n      <td>0.0</td>\n      <td>1643.0</td>\n      <td>74.0</td>\n      <td>Gravior Noxnuther</td>\n      <td>False</td>\n      <td>False</td>\n      <td>...</td>\n      <td>True</td>\n      <td>False</td>\n      <td>False</td>\n      <td>False</td>\n      <td>False</td>\n      <td>True</td>\n      <td>False</td>\n      <td>True</td>\n      <td>False</td>\n      <td>False</td>\n    </tr>\n    <tr>\n      <th>8689</th>\n      <td>9278_01</td>\n      <td>18.0</td>\n      <td>0.0</td>\n      <td>0.0</td>\n      <td>0.0</td>\n      <td>0.0</td>\n      <td>0.0</td>\n      <td>Kurta Mondalley</td>\n      <td>False</td>\n      <td>True</td>\n      <td>...</td>\n      <td>False</td>\n      <td>True</td>\n      <td>False</td>\n      <td>False</td>\n      <td>True</td>\n      <td>False</td>\n      <td>False</td>\n      <td>False</td>\n      <td>True</td>\n      <td>False</td>\n    </tr>\n    <tr>\n      <th>8690</th>\n      <td>9279_01</td>\n      <td>26.0</td>\n      <td>0.0</td>\n      <td>0.0</td>\n      <td>1872.0</td>\n      <td>1.0</td>\n      <td>0.0</td>\n      <td>Fayey Connon</td>\n      <td>True</td>\n      <td>True</td>\n      <td>...</td>\n      <td>False</td>\n      <td>False</td>\n      <td>True</td>\n      <td>False</td>\n      <td>True</td>\n      <td>False</td>\n      <td>False</td>\n      <td>False</td>\n      <td>True</td>\n      <td>False</td>\n    </tr>\n    <tr>\n      <th>8691</th>\n      <td>9280_01</td>\n      <td>32.0</td>\n      <td>0.0</td>\n      <td>1049.0</td>\n      <td>0.0</td>\n      <td>353.0</td>\n      <td>3235.0</td>\n      <td>Celeon Hontichre</td>\n      <td>False</td>\n      <td>False</td>\n      <td>...</td>\n      <td>True</td>\n      <td>False</td>\n      <td>False</td>\n      <td>False</td>\n      <td>True</td>\n      <td>False</td>\n      <td>False</td>\n      <td>False</td>\n      <td>True</td>\n      <td>False</td>\n    </tr>\n    <tr>\n      <th>8692</th>\n      <td>9280_02</td>\n      <td>44.0</td>\n      <td>126.0</td>\n      <td>4688.0</td>\n      <td>0.0</td>\n      <td>0.0</td>\n      <td>12.0</td>\n      <td>Propsh Hontichre</td>\n      <td>True</td>\n      <td>False</td>\n      <td>...</td>\n      <td>False</td>\n      <td>False</td>\n      <td>True</td>\n      <td>False</td>\n      <td>True</td>\n      <td>False</td>\n      <td>False</td>\n      <td>False</td>\n      <td>True</td>\n      <td>False</td>\n    </tr>\n  </tbody>\n</table>\n<p>8693 rows × 26 columns</p>\n</div>"
     },
     "execution_count": 39,
     "metadata": {},
     "output_type": "execute_result"
    }
   ],
   "source": [
    "train\n"
   ],
   "metadata": {
    "collapsed": false,
    "ExecuteTime": {
     "end_time": "2024-03-23T16:32:50.887026800Z",
     "start_time": "2024-03-23T16:32:50.846989400Z"
    }
   },
   "id": "884f1a789cb490cd",
   "execution_count": 39
  },
  {
   "cell_type": "code",
   "outputs": [
    {
     "data": {
      "text/plain": "     PassengerId HomePlanet CryoSleep     Cabin  Destination   Age    VIP  \\\n7        0006_02      Earth      True     G/0/S  TRAPPIST-1e  28.0  False   \n10       0008_02     Europa      True     B/1/P  TRAPPIST-1e  34.0  False   \n15       0012_01      Earth     False       NaN  TRAPPIST-1e  31.0  False   \n16       0014_01       Mars     False     F/3/P  55 Cancri e  27.0  False   \n23       0020_03      Earth      True     E/0/S  55 Cancri e  29.0  False   \n...          ...        ...       ...       ...          ...   ...    ...   \n8667     9250_01     Europa     False   E/597/P  TRAPPIST-1e  29.0  False   \n8674     9257_01        NaN     False  F/1892/P  TRAPPIST-1e  13.0  False   \n8675     9259_01      Earth       NaN  F/1893/P  TRAPPIST-1e  44.0  False   \n8684     9274_01        NaN      True  G/1508/P  TRAPPIST-1e  23.0  False   \n8687     9275_03     Europa       NaN    A/97/P  TRAPPIST-1e  30.0  False   \n\n      RoomService  FoodCourt  ShoppingMall   Spa  VRDeck                Name  \\\n7             0.0        0.0           0.0   0.0     NaN  Candra Jacostaffey   \n10            0.0        0.0           NaN   0.0     0.0      Altardr Flatic   \n15           32.0        0.0         876.0   0.0     0.0       Justie Pooles   \n16         1286.0      122.0           NaN   0.0     0.0         Flats Eccle   \n23            0.0        0.0           NaN   0.0     0.0  Mollen Mcfaddennon   \n...           ...        ...           ...   ...     ...                 ...   \n8667          0.0     2972.0           NaN  28.0   188.0    Chain Reedectied   \n8674         39.0        0.0        1085.0  24.0     0.0          Ties Apple   \n8675       1030.0     1015.0           0.0  11.0     NaN     Annah Gilleyons   \n8684          0.0        0.0           0.0   0.0     0.0     Chelsa Bullisey   \n8687          0.0     3208.0           0.0   2.0   330.0     Atlasym Conable   \n\n      Transported  \n7            True  \n10           True  \n15          False  \n16          False  \n23          False  \n...           ...  \n8667         True  \n8674        False  \n8675         True  \n8684         True  \n8687         True  \n\n[2087 rows x 14 columns]",
      "text/html": "<div>\n<style scoped>\n    .dataframe tbody tr th:only-of-type {\n        vertical-align: middle;\n    }\n\n    .dataframe tbody tr th {\n        vertical-align: top;\n    }\n\n    .dataframe thead th {\n        text-align: right;\n    }\n</style>\n<table border=\"1\" class=\"dataframe\">\n  <thead>\n    <tr style=\"text-align: right;\">\n      <th></th>\n      <th>PassengerId</th>\n      <th>HomePlanet</th>\n      <th>CryoSleep</th>\n      <th>Cabin</th>\n      <th>Destination</th>\n      <th>Age</th>\n      <th>VIP</th>\n      <th>RoomService</th>\n      <th>FoodCourt</th>\n      <th>ShoppingMall</th>\n      <th>Spa</th>\n      <th>VRDeck</th>\n      <th>Name</th>\n      <th>Transported</th>\n    </tr>\n  </thead>\n  <tbody>\n    <tr>\n      <th>7</th>\n      <td>0006_02</td>\n      <td>Earth</td>\n      <td>True</td>\n      <td>G/0/S</td>\n      <td>TRAPPIST-1e</td>\n      <td>28.0</td>\n      <td>False</td>\n      <td>0.0</td>\n      <td>0.0</td>\n      <td>0.0</td>\n      <td>0.0</td>\n      <td>NaN</td>\n      <td>Candra Jacostaffey</td>\n      <td>True</td>\n    </tr>\n    <tr>\n      <th>10</th>\n      <td>0008_02</td>\n      <td>Europa</td>\n      <td>True</td>\n      <td>B/1/P</td>\n      <td>TRAPPIST-1e</td>\n      <td>34.0</td>\n      <td>False</td>\n      <td>0.0</td>\n      <td>0.0</td>\n      <td>NaN</td>\n      <td>0.0</td>\n      <td>0.0</td>\n      <td>Altardr Flatic</td>\n      <td>True</td>\n    </tr>\n    <tr>\n      <th>15</th>\n      <td>0012_01</td>\n      <td>Earth</td>\n      <td>False</td>\n      <td>NaN</td>\n      <td>TRAPPIST-1e</td>\n      <td>31.0</td>\n      <td>False</td>\n      <td>32.0</td>\n      <td>0.0</td>\n      <td>876.0</td>\n      <td>0.0</td>\n      <td>0.0</td>\n      <td>Justie Pooles</td>\n      <td>False</td>\n    </tr>\n    <tr>\n      <th>16</th>\n      <td>0014_01</td>\n      <td>Mars</td>\n      <td>False</td>\n      <td>F/3/P</td>\n      <td>55 Cancri e</td>\n      <td>27.0</td>\n      <td>False</td>\n      <td>1286.0</td>\n      <td>122.0</td>\n      <td>NaN</td>\n      <td>0.0</td>\n      <td>0.0</td>\n      <td>Flats Eccle</td>\n      <td>False</td>\n    </tr>\n    <tr>\n      <th>23</th>\n      <td>0020_03</td>\n      <td>Earth</td>\n      <td>True</td>\n      <td>E/0/S</td>\n      <td>55 Cancri e</td>\n      <td>29.0</td>\n      <td>False</td>\n      <td>0.0</td>\n      <td>0.0</td>\n      <td>NaN</td>\n      <td>0.0</td>\n      <td>0.0</td>\n      <td>Mollen Mcfaddennon</td>\n      <td>False</td>\n    </tr>\n    <tr>\n      <th>...</th>\n      <td>...</td>\n      <td>...</td>\n      <td>...</td>\n      <td>...</td>\n      <td>...</td>\n      <td>...</td>\n      <td>...</td>\n      <td>...</td>\n      <td>...</td>\n      <td>...</td>\n      <td>...</td>\n      <td>...</td>\n      <td>...</td>\n      <td>...</td>\n    </tr>\n    <tr>\n      <th>8667</th>\n      <td>9250_01</td>\n      <td>Europa</td>\n      <td>False</td>\n      <td>E/597/P</td>\n      <td>TRAPPIST-1e</td>\n      <td>29.0</td>\n      <td>False</td>\n      <td>0.0</td>\n      <td>2972.0</td>\n      <td>NaN</td>\n      <td>28.0</td>\n      <td>188.0</td>\n      <td>Chain Reedectied</td>\n      <td>True</td>\n    </tr>\n    <tr>\n      <th>8674</th>\n      <td>9257_01</td>\n      <td>NaN</td>\n      <td>False</td>\n      <td>F/1892/P</td>\n      <td>TRAPPIST-1e</td>\n      <td>13.0</td>\n      <td>False</td>\n      <td>39.0</td>\n      <td>0.0</td>\n      <td>1085.0</td>\n      <td>24.0</td>\n      <td>0.0</td>\n      <td>Ties Apple</td>\n      <td>False</td>\n    </tr>\n    <tr>\n      <th>8675</th>\n      <td>9259_01</td>\n      <td>Earth</td>\n      <td>NaN</td>\n      <td>F/1893/P</td>\n      <td>TRAPPIST-1e</td>\n      <td>44.0</td>\n      <td>False</td>\n      <td>1030.0</td>\n      <td>1015.0</td>\n      <td>0.0</td>\n      <td>11.0</td>\n      <td>NaN</td>\n      <td>Annah Gilleyons</td>\n      <td>True</td>\n    </tr>\n    <tr>\n      <th>8684</th>\n      <td>9274_01</td>\n      <td>NaN</td>\n      <td>True</td>\n      <td>G/1508/P</td>\n      <td>TRAPPIST-1e</td>\n      <td>23.0</td>\n      <td>False</td>\n      <td>0.0</td>\n      <td>0.0</td>\n      <td>0.0</td>\n      <td>0.0</td>\n      <td>0.0</td>\n      <td>Chelsa Bullisey</td>\n      <td>True</td>\n    </tr>\n    <tr>\n      <th>8687</th>\n      <td>9275_03</td>\n      <td>Europa</td>\n      <td>NaN</td>\n      <td>A/97/P</td>\n      <td>TRAPPIST-1e</td>\n      <td>30.0</td>\n      <td>False</td>\n      <td>0.0</td>\n      <td>3208.0</td>\n      <td>0.0</td>\n      <td>2.0</td>\n      <td>330.0</td>\n      <td>Atlasym Conable</td>\n      <td>True</td>\n    </tr>\n  </tbody>\n</table>\n<p>2087 rows × 14 columns</p>\n</div>"
     },
     "execution_count": 15,
     "metadata": {},
     "output_type": "execute_result"
    }
   ],
   "source": [
    "missing_values = train[train.isna().any(axis=1)]\n",
    "missing_values"
   ],
   "metadata": {
    "collapsed": false,
    "ExecuteTime": {
     "end_time": "2024-03-23T15:58:23.408380300Z",
     "start_time": "2024-03-23T15:58:23.372346800Z"
    }
   },
   "id": "40610ca3ca94fc3",
   "execution_count": 15
  },
  {
   "cell_type": "markdown",
   "source": [
    "Handle missing values "
   ],
   "metadata": {
    "collapsed": false
   },
   "id": "7b5e11949a5cc36a"
  },
  {
   "cell_type": "code",
   "outputs": [],
   "source": [
    "# Impute numerical values with median\n",
    "\n",
    "median_RoomService = train[\"RoomService\"].median()\n",
    "train.fillna({\"RoomService\": median_RoomService}, inplace = True)\n",
    "\n",
    "median_FoodCourt = train[\"FoodCourt\"].median()\n",
    "train.fillna({\"FoodCourt\": median_FoodCourt}, inplace = True)\n",
    "\n",
    "median_ShoppingMall = train[\"ShoppingMall\"].median()\n",
    "train.fillna({\"ShoppingMall\": median_ShoppingMall}, inplace = True)\n",
    "\n",
    "median_Spa = train[\"Spa\"].median()\n",
    "train.fillna({\"Spa\": median_Spa}, inplace = True)\n",
    "\n",
    "median_VRDeck = train[\"VRDeck\"].median()\n",
    "train.fillna({\"VRDeck\": median_VRDeck}, inplace = True)\n",
    "\n",
    "median_Age = train[\"Age\"].median()\n",
    "train.fillna({\"Age\": median_Age}, inplace = True)\n",
    "\n",
    "# Add new category \"Missing\" for every categorical variable\n",
    "\n",
    "train.fillna({\"HomePlanet\": \"unknown\"}, inplace=True)\n",
    "train.fillna({\"CryoSleep\": \"unknown\"}, inplace=True)\n",
    "train.fillna({\"Destination\": \"unknown\"}, inplace=True)\n",
    "train.fillna({\"VIP\": \"unknown\"}, inplace=True)\n",
    "\n",
    "# Filter Cabin for either S or P to know on which side of the ship their cabin was -> maybe impact on death\n",
    "\n",
    "train[\"Cabin\"] = train[\"Cabin\"].str.replace(\"/\", \"\")\n",
    "\n",
    "def set_value(x):\n",
    "    x_str = str(x)\n",
    "    if 'P' in x_str:\n",
    "        return 'P'\n",
    "    elif 'S' in x_str:\n",
    "        return 'S'\n",
    "    else:\n",
    "        return x\n",
    "    \n",
    "train['Cabin'] = train['Cabin'].apply(set_value)\n",
    "train.fillna({\"Cabin\": \"unknown\"}, inplace=True)\n",
    "\n",
    "# Dummies for Categorical variables\n",
    "dummie_v = [\"HomePlanet\", \"CryoSleep\", \"Destination\", \"VIP\", \"Cabin\"]\n",
    "train = pd.get_dummies(train, columns=dummie_v, drop_first=True)\n",
    "train = train.drop(columns = [\"Name\", 'PassengerId'])"
   ],
   "metadata": {
    "collapsed": false,
    "ExecuteTime": {
     "end_time": "2024-03-23T16:36:57.583648300Z",
     "start_time": "2024-03-23T16:36:57.549617Z"
    }
   },
   "id": "1e102449c4721ea1",
   "execution_count": 49
  },
  {
   "cell_type": "markdown",
   "source": [
    "Train basic model without feature engineering"
   ],
   "metadata": {
    "collapsed": false
   },
   "id": "fa5421416b3355e3"
  },
  {
   "cell_type": "code",
   "outputs": [],
   "source": [
    "y = train[\"Transported\"]\n",
    "X = train.drop(\"Transported\")\n"
   ],
   "metadata": {
    "collapsed": false,
    "ExecuteTime": {
     "end_time": "2024-03-23T16:36:59.374276800Z",
     "start_time": "2024-03-23T16:36:59.348253500Z"
    }
   },
   "id": "6f404495662a3e94",
   "execution_count": 50
  },
  {
   "cell_type": "code",
   "outputs": [
    {
     "data": {
      "text/plain": "       Age  RoomService  FoodCourt  ShoppingMall     Spa  VRDeck  Transported  \\\n0     39.0          0.0        0.0           0.0     0.0     0.0        False   \n1     24.0        109.0        9.0          25.0   549.0    44.0         True   \n2     58.0         43.0     3576.0           0.0  6715.0    49.0        False   \n3     33.0          0.0     1283.0         371.0  3329.0   193.0        False   \n4     16.0        303.0       70.0         151.0   565.0     2.0         True   \n...    ...          ...        ...           ...     ...     ...          ...   \n8688  41.0          0.0     6819.0           0.0  1643.0    74.0        False   \n8689  18.0          0.0        0.0           0.0     0.0     0.0        False   \n8690  26.0          0.0        0.0        1872.0     1.0     0.0         True   \n8691  32.0          0.0     1049.0           0.0   353.0  3235.0        False   \n8692  44.0        126.0     4688.0           0.0     0.0    12.0         True   \n\n      HomePlanet_Europa  HomePlanet_Mars  HomePlanet_unknown  CryoSleep_True  \\\n0                  True            False               False           False   \n1                 False            False               False           False   \n2                  True            False               False           False   \n3                  True            False               False           False   \n4                 False            False               False           False   \n...                 ...              ...                 ...             ...   \n8688               True            False               False           False   \n8689              False            False               False            True   \n8690              False            False               False           False   \n8691               True            False               False           False   \n8692               True            False               False           False   \n\n      CryoSleep_unknown  Destination_PSO J318.5-22  Destination_TRAPPIST-1e  \\\n0                 False                      False                     True   \n1                 False                      False                     True   \n2                 False                      False                     True   \n3                 False                      False                     True   \n4                 False                      False                     True   \n...                 ...                        ...                      ...   \n8688              False                      False                    False   \n8689              False                       True                    False   \n8690              False                      False                     True   \n8691              False                      False                    False   \n8692              False                      False                     True   \n\n      Destination_unknown  VIP_True  VIP_unknown  Cabin_S  Cabin_unknown  \n0                   False     False        False    False          False  \n1                   False     False        False     True          False  \n2                   False      True        False     True          False  \n3                   False     False        False     True          False  \n4                   False     False        False     True          False  \n...                   ...       ...          ...      ...            ...  \n8688                False      True        False    False          False  \n8689                False     False        False     True          False  \n8690                False     False        False     True          False  \n8691                False     False        False     True          False  \n8692                False     False        False     True          False  \n\n[8693 rows x 19 columns]",
      "text/html": "<div>\n<style scoped>\n    .dataframe tbody tr th:only-of-type {\n        vertical-align: middle;\n    }\n\n    .dataframe tbody tr th {\n        vertical-align: top;\n    }\n\n    .dataframe thead th {\n        text-align: right;\n    }\n</style>\n<table border=\"1\" class=\"dataframe\">\n  <thead>\n    <tr style=\"text-align: right;\">\n      <th></th>\n      <th>Age</th>\n      <th>RoomService</th>\n      <th>FoodCourt</th>\n      <th>ShoppingMall</th>\n      <th>Spa</th>\n      <th>VRDeck</th>\n      <th>Transported</th>\n      <th>HomePlanet_Europa</th>\n      <th>HomePlanet_Mars</th>\n      <th>HomePlanet_unknown</th>\n      <th>CryoSleep_True</th>\n      <th>CryoSleep_unknown</th>\n      <th>Destination_PSO J318.5-22</th>\n      <th>Destination_TRAPPIST-1e</th>\n      <th>Destination_unknown</th>\n      <th>VIP_True</th>\n      <th>VIP_unknown</th>\n      <th>Cabin_S</th>\n      <th>Cabin_unknown</th>\n    </tr>\n  </thead>\n  <tbody>\n    <tr>\n      <th>0</th>\n      <td>39.0</td>\n      <td>0.0</td>\n      <td>0.0</td>\n      <td>0.0</td>\n      <td>0.0</td>\n      <td>0.0</td>\n      <td>False</td>\n      <td>True</td>\n      <td>False</td>\n      <td>False</td>\n      <td>False</td>\n      <td>False</td>\n      <td>False</td>\n      <td>True</td>\n      <td>False</td>\n      <td>False</td>\n      <td>False</td>\n      <td>False</td>\n      <td>False</td>\n    </tr>\n    <tr>\n      <th>1</th>\n      <td>24.0</td>\n      <td>109.0</td>\n      <td>9.0</td>\n      <td>25.0</td>\n      <td>549.0</td>\n      <td>44.0</td>\n      <td>True</td>\n      <td>False</td>\n      <td>False</td>\n      <td>False</td>\n      <td>False</td>\n      <td>False</td>\n      <td>False</td>\n      <td>True</td>\n      <td>False</td>\n      <td>False</td>\n      <td>False</td>\n      <td>True</td>\n      <td>False</td>\n    </tr>\n    <tr>\n      <th>2</th>\n      <td>58.0</td>\n      <td>43.0</td>\n      <td>3576.0</td>\n      <td>0.0</td>\n      <td>6715.0</td>\n      <td>49.0</td>\n      <td>False</td>\n      <td>True</td>\n      <td>False</td>\n      <td>False</td>\n      <td>False</td>\n      <td>False</td>\n      <td>False</td>\n      <td>True</td>\n      <td>False</td>\n      <td>True</td>\n      <td>False</td>\n      <td>True</td>\n      <td>False</td>\n    </tr>\n    <tr>\n      <th>3</th>\n      <td>33.0</td>\n      <td>0.0</td>\n      <td>1283.0</td>\n      <td>371.0</td>\n      <td>3329.0</td>\n      <td>193.0</td>\n      <td>False</td>\n      <td>True</td>\n      <td>False</td>\n      <td>False</td>\n      <td>False</td>\n      <td>False</td>\n      <td>False</td>\n      <td>True</td>\n      <td>False</td>\n      <td>False</td>\n      <td>False</td>\n      <td>True</td>\n      <td>False</td>\n    </tr>\n    <tr>\n      <th>4</th>\n      <td>16.0</td>\n      <td>303.0</td>\n      <td>70.0</td>\n      <td>151.0</td>\n      <td>565.0</td>\n      <td>2.0</td>\n      <td>True</td>\n      <td>False</td>\n      <td>False</td>\n      <td>False</td>\n      <td>False</td>\n      <td>False</td>\n      <td>False</td>\n      <td>True</td>\n      <td>False</td>\n      <td>False</td>\n      <td>False</td>\n      <td>True</td>\n      <td>False</td>\n    </tr>\n    <tr>\n      <th>...</th>\n      <td>...</td>\n      <td>...</td>\n      <td>...</td>\n      <td>...</td>\n      <td>...</td>\n      <td>...</td>\n      <td>...</td>\n      <td>...</td>\n      <td>...</td>\n      <td>...</td>\n      <td>...</td>\n      <td>...</td>\n      <td>...</td>\n      <td>...</td>\n      <td>...</td>\n      <td>...</td>\n      <td>...</td>\n      <td>...</td>\n      <td>...</td>\n    </tr>\n    <tr>\n      <th>8688</th>\n      <td>41.0</td>\n      <td>0.0</td>\n      <td>6819.0</td>\n      <td>0.0</td>\n      <td>1643.0</td>\n      <td>74.0</td>\n      <td>False</td>\n      <td>True</td>\n      <td>False</td>\n      <td>False</td>\n      <td>False</td>\n      <td>False</td>\n      <td>False</td>\n      <td>False</td>\n      <td>False</td>\n      <td>True</td>\n      <td>False</td>\n      <td>False</td>\n      <td>False</td>\n    </tr>\n    <tr>\n      <th>8689</th>\n      <td>18.0</td>\n      <td>0.0</td>\n      <td>0.0</td>\n      <td>0.0</td>\n      <td>0.0</td>\n      <td>0.0</td>\n      <td>False</td>\n      <td>False</td>\n      <td>False</td>\n      <td>False</td>\n      <td>True</td>\n      <td>False</td>\n      <td>True</td>\n      <td>False</td>\n      <td>False</td>\n      <td>False</td>\n      <td>False</td>\n      <td>True</td>\n      <td>False</td>\n    </tr>\n    <tr>\n      <th>8690</th>\n      <td>26.0</td>\n      <td>0.0</td>\n      <td>0.0</td>\n      <td>1872.0</td>\n      <td>1.0</td>\n      <td>0.0</td>\n      <td>True</td>\n      <td>False</td>\n      <td>False</td>\n      <td>False</td>\n      <td>False</td>\n      <td>False</td>\n      <td>False</td>\n      <td>True</td>\n      <td>False</td>\n      <td>False</td>\n      <td>False</td>\n      <td>True</td>\n      <td>False</td>\n    </tr>\n    <tr>\n      <th>8691</th>\n      <td>32.0</td>\n      <td>0.0</td>\n      <td>1049.0</td>\n      <td>0.0</td>\n      <td>353.0</td>\n      <td>3235.0</td>\n      <td>False</td>\n      <td>True</td>\n      <td>False</td>\n      <td>False</td>\n      <td>False</td>\n      <td>False</td>\n      <td>False</td>\n      <td>False</td>\n      <td>False</td>\n      <td>False</td>\n      <td>False</td>\n      <td>True</td>\n      <td>False</td>\n    </tr>\n    <tr>\n      <th>8692</th>\n      <td>44.0</td>\n      <td>126.0</td>\n      <td>4688.0</td>\n      <td>0.0</td>\n      <td>0.0</td>\n      <td>12.0</td>\n      <td>True</td>\n      <td>True</td>\n      <td>False</td>\n      <td>False</td>\n      <td>False</td>\n      <td>False</td>\n      <td>False</td>\n      <td>True</td>\n      <td>False</td>\n      <td>False</td>\n      <td>False</td>\n      <td>True</td>\n      <td>False</td>\n    </tr>\n  </tbody>\n</table>\n<p>8693 rows × 19 columns</p>\n</div>"
     },
     "execution_count": 51,
     "metadata": {},
     "output_type": "execute_result"
    }
   ],
   "source": [
    "train"
   ],
   "metadata": {
    "collapsed": false,
    "ExecuteTime": {
     "end_time": "2024-03-23T16:37:01.623705700Z",
     "start_time": "2024-03-23T16:37:01.590675300Z"
    }
   },
   "id": "bf07467ffada6e3",
   "execution_count": 51
  },
  {
   "cell_type": "code",
   "outputs": [],
   "source": [],
   "metadata": {
    "collapsed": false
   },
   "id": "1fa75b1902523b6e"
  }
 ],
 "metadata": {
  "kernelspec": {
   "display_name": "Python 3",
   "language": "python",
   "name": "python3"
  },
  "language_info": {
   "codemirror_mode": {
    "name": "ipython",
    "version": 2
   },
   "file_extension": ".py",
   "mimetype": "text/x-python",
   "name": "python",
   "nbconvert_exporter": "python",
   "pygments_lexer": "ipython2",
   "version": "2.7.6"
  }
 },
 "nbformat": 4,
 "nbformat_minor": 5
}
